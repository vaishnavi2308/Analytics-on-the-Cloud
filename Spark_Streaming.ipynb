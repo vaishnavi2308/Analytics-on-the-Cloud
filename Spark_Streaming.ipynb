{
 "cells": [
  {
   "cell_type": "markdown",
   "metadata": {},
   "source": [
    "<h1>Binomial classification with PySpark</h1>\n",
    "In this assignment you will run a streaming app in PySpark that uses the <a href=\"http://spark.apache.org/docs/latest/api/python/pyspark.mllib.html?highlight=predict#pyspark.mllib.regression.StreamingLinearRegressionWithSGD\">StreamingLinearRegressionWithSGD</a> and the <a href=\"http://spark.apache.org/docs/latest/api/python/pyspark.mllib.html?highlight=predict#pyspark.mllib.classification.StreamingLogisticRegressionWithSGD\">StreamingLogisticRegressionWithSGD</a> libraries to build prediction models on a dataset.\n",
    "\n",
    "The dataset is available at <a href=\"https://drive.google.com/open?id=1KeqBf7YPykb8C4WOU4vDFS4LDJhLLGuh\">https://drive.google.com/open?id=1KeqBf7YPykb8C4WOU4vDFS4LDJhLLGuh</a>"
   ]
  },
  {
   "cell_type": "markdown",
   "metadata": {},
   "source": [
    "<h2>What you need to do</h2>\n",
    "<li>Set up Spark streaming in a python notebook</li>\n",
    "<li>Create two models, one for logistic regression and one for linear regression and parameterize them appropriately (see below)</li>\n",
    "<li>Write a function that parses the data. The data header is \"hour,month,weekday,Agency_Num,Borough_Num,processing_bucket\"</li>\n",
    "<li>The dependent variable is processing_bucket. All the other variables are in the independent feature set</li>\n",
    "<li>Create two file streams. One for training data and one for testing data (see below for more explanation on the how to of the file streams)</li>\n",
    "<li>Run the models. Report the following for each batch:</li>\n",
    "<ol>\n",
    "    <li>predictions for each model (you may report both actuals and predictions)</li>\n",
    "    <li>area under roc for the logistic regression model (see BinaryClassificationMetrics)</li>\n",
    "    <li>accuracy of the two models. Assume a threshold of 0.5. You will need to write a function that calculates the accuracy</li>\n",
    "</ol>\n",
    "<li>A plot that shows the change in roc and the two accuracy numbers over the batches. Run as many batches as you like but <b>a minimum of 10 batches is required</b>"
   ]
  },
  {
   "cell_type": "markdown",
   "metadata": {},
   "source": [
    "<h2>Submission requirements</h2>\n",
    "<li>The notebook with all your code</li>\n",
    "<li>The run results and cell outputs must be visible in the notebook. Failure to submit a \"run\" notebook will cost you lots of points!</li>"
   ]
  },
  {
   "cell_type": "markdown",
   "metadata": {},
   "source": [
    "<h2>Parameterizing the models</h2>\n",
    "<li>You need to set two parameters: initial weights and step size</li>\n",
    "<li>initial weights are the initial coefficients that the models will use. You can pretty much set these arbitrarily</li>\n",
    "<li>stepsize: both models use gradient descent and the stepsize parameter is used to control how much the model should move toward the local minimum in each iteration. Setting the stepsize parameter is tricky, perhaps the hardest thing to do in ML: too high and you'll jump around without ever getting toward the minimum. Too low and the model will converge too slowly. My suggestion, set the stepsize in the linear model first:<li>\n",
    "    <ul>\n",
    "        <li>Set an arbitray stepsize</li>\n",
    "        <li>Print the predictions at each batch time</li>\n",
    "        <li>See if they are too high. If yes, lower the step size and run the model again</li>\n",
    "        <li>Do this until you start getting reasonable looking predictions</li>\n",
    "    </ul>\n",
    "    "
   ]
  },
  {
   "cell_type": "markdown",
   "metadata": {},
   "source": [
    "<h3>Managing the files</h3>\n",
    "<li>the text file stream will only pickup new files in the directory so you should keep a repository of files and copy them into the train and test directories at the right time for each batch.</li>\n",
    "<li>remember to delete all files if you restart the streaming context</li>\n",
    "<li>my suggestion: iterate through the files (file1.csv to file10.csv) copying the same file into the train and test directories in each batch. Example, in batch 1 copy file1.csv into train and test dirs. In batch 2, copy file2.csv into train and test directories, etc. Not pure, but anything else will drive you crazy!</li>\n",
    "<li>If you go beyond 10 files (not a bad idea), start again but remember not to use the same file name twice. I.e., for the 11th file, you can copy file1.csv to file11.csv</li>"
   ]
  },
  {
   "cell_type": "markdown",
   "metadata": {},
   "source": [
    "<h2>General notes</h2>\n",
    "<li>Remember to stop the streaming context after each run. Don't just restart the kernel or your context may still contain old functions and stream structures</li>\n",
    "<li>You will need to restart the kernel each time you stop the streaming context. Organize your code so that it is easy to run the set up again</li>\n",
    "<li>You may want to use a long batch interval so that you have plenty of time to copy files and get ready for the next batch. About 60 seconds should be good</li>\n",
    "<li>Don't leave this till Sunday. This assignment will require a lot of trial and error!</li>\n",
    "<li>Bear in mind that you're using Python, not Scala!</li>"
   ]
  },
  {
   "cell_type": "code",
   "execution_count": 1,
   "metadata": {},
   "outputs": [],
   "source": [
    "from pyspark.sql import SparkSession\n",
    "from pyspark.streaming import StreamingContext\n",
    "\n",
    "spark = SparkSession.builder.appName(\"PySpark SQL\").getOrCreate()\n",
    "sc = spark.sparkContext\n",
    "ssc = StreamingContext(sc,60)"
   ]
  },
  {
   "cell_type": "code",
   "execution_count": 2,
   "metadata": {},
   "outputs": [],
   "source": [
    "from pyspark.mllib.linalg import Vectors\n",
    "from pyspark.mllib.regression import LabeledPoint\n",
    "from pyspark.mllib.regression import StreamingLinearRegressionWithSGD\n",
    "\n",
    "from pyspark.mllib.classification import StreamingLogisticRegressionWithSGD\n",
    "from pyspark.mllib.evaluation import BinaryClassificationMetrics"
   ]
  },
  {
   "cell_type": "code",
   "execution_count": 3,
   "metadata": {},
   "outputs": [],
   "source": [
    "# define the parseing function to parse the data\n",
    "def parse_data(line):\n",
    "    l = line.split(\",\")\n",
    "    target = float(l[5])\n",
    "    features = list(map(lambda x: float(x),l[0:5]))\n",
    "    labeled_point = LabeledPoint(target,Vectors.dense(features))\n",
    "    return labeled_point\n",
    "\n",
    "# define the function to calculate the accrucy\n",
    "def get_accuracy(result,pRDD):\n",
    "    pred = pRDD.map(lambda x : (x[0], float(round(x[1])))).filter(lambda x: x[0]==x[1]).count()\n",
    "    acc = pred/pRDD.count()\n",
    "    print(\"the accrucy is\",acc)   \n",
    "    result.append(acc) \n",
    "    \n",
    "# define the function to get the metrics and area under ROC for logistic model\n",
    "def get_metrics_acc(result_acc,result_roc,pRDD):\n",
    "    \n",
    "    #calculate the accuracy\n",
    "    pred = pRDD.filter(lambda x: x[0]==x[1]).count()\n",
    "    acc = pred/pRDD.count()\n",
    "    print(\"the accrucy is\",acc)   \n",
    "    result_acc.append(acc) \n",
    "    #calculate the area under the roc\n",
    "    new_rdd = pRDD.map(lambda x : (x[0], float(round(x[1]))))\n",
    "    metrics = BinaryClassificationMetrics(new_rdd)\n",
    "    areunderROC = metrics.areaUnderROC\n",
    "    print(\"the area under ROC is\",areunderROC)\n",
    "    result_roc.append(areunderROC)"
   ]
  },
  {
   "cell_type": "code",
   "execution_count": 4,
   "metadata": {},
   "outputs": [],
   "source": [
    "training_data = ssc.textFileStream(\"stream_training\").map(parse_data).cache()\n",
    "testing_data = ssc.textFileStream(\"stream_testing\").map(parse_data)"
   ]
  },
  {
   "cell_type": "markdown",
   "metadata": {},
   "source": [
    "LINEAR REGRESSION MODEL"
   ]
  },
  {
   "cell_type": "code",
   "execution_count": 5,
   "metadata": {
    "scrolled": true
   },
   "outputs": [],
   "source": [
    "\n",
    "linear_model = StreamingLinearRegressionWithSGD(stepSize=0.02)\n",
    "linear_model.setInitialWeights([0.0, 0.0, 0.0, 0.0, 0.0])\n",
    "\n",
    "\n",
    "linear_model.trainOn(training_data)\n",
    "linear_predicted_values = linear_model.predictOnValues(testing_data.map(lambda lp: (lp.label, lp.features)))\n",
    "linear_predicted_values.pprint()\n",
    "\n",
    "linear_acc = []\n",
    "linear_predicted_values.foreachRDD(lambda r: get_accuracy(linear_acc,r))"
   ]
  },
  {
   "cell_type": "code",
   "execution_count": 6,
   "metadata": {
    "scrolled": false
   },
   "outputs": [
    {
     "name": "stdout",
     "output_type": "stream",
     "text": [
      "-------------------------------------------\n",
      "Time: 2019-04-15 18:41:00\n",
      "-------------------------------------------\n",
      "(0.0, 0.0)\n",
      "(0.0, 0.0)\n",
      "(1.0, 0.0)\n",
      "(1.0, 0.0)\n",
      "(0.0, 0.0)\n",
      "(0.0, 0.0)\n",
      "(0.0, 0.0)\n",
      "(0.0, 0.0)\n",
      "(1.0, 0.0)\n",
      "(0.0, 0.0)\n",
      "...\n",
      "\n",
      "the accrucy is 0.4033108242869761\n",
      "-------------------------------------------\n",
      "Time: 2019-04-15 18:42:00\n",
      "-------------------------------------------\n",
      "(1.0, 0.4085958961588431)\n",
      "(1.0, 0.595545554358031)\n",
      "(1.0, 0.3796392546827147)\n",
      "(1.0, 0.3796392546827147)\n",
      "(1.0, 0.4954658205872284)\n",
      "(1.0, 0.3796392546827147)\n",
      "(1.0, 0.47971898845351735)\n",
      "(1.0, 0.4085958961588431)\n",
      "(1.0, 0.4954658205872284)\n",
      "(1.0, 0.4836556964869451)\n",
      "...\n",
      "\n",
      "the accrucy is 0.5153930535373393\n",
      "-------------------------------------------\n",
      "Time: 2019-04-15 18:43:00\n",
      "-------------------------------------------\n",
      "(1.0, 0.35480672254807427)\n",
      "(1.0, 0.46206573500953213)\n",
      "(1.0, 0.46206573500953213)\n",
      "(0.0, 0.46206573500953213)\n",
      "(1.0, 0.35480672254807427)\n",
      "(1.0, 0.35480672254807427)\n",
      "(1.0, 0.35480672254807427)\n",
      "(0.0, 0.3566185606441107)\n",
      "(0.0, 0.5263243909330252)\n",
      "(1.0, 0.35480672254807427)\n",
      "...\n",
      "\n",
      "the accrucy is 0.5122090207140212\n",
      "-------------------------------------------\n",
      "Time: 2019-04-15 18:44:00\n",
      "-------------------------------------------\n",
      "(1.0, 0.40927808300867163)\n",
      "(1.0, 0.40927808300867163)\n",
      "(1.0, 0.40927808300867163)\n",
      "(1.0, 0.40927808300867163)\n",
      "(0.0, 0.37286948122446806)\n",
      "(1.0, 0.5814911463051753)\n",
      "(1.0, 0.4489633333343801)\n",
      "(1.0, 0.44241003625137043)\n",
      "(1.0, 0.44241003625137043)\n",
      "(1.0, 0.37614612976597284)\n",
      "...\n",
      "\n",
      "the accrucy is 0.5195458301279312\n",
      "-------------------------------------------\n",
      "Time: 2019-04-15 18:45:00\n",
      "-------------------------------------------\n",
      "(0.0, 0.8466215705561904)\n",
      "(1.0, 1.013385317724228)\n",
      "(0.0, 0.5730947150045907)\n",
      "(0.0, 0.3280206270596113)\n",
      "(1.0, 0.5664756304118962)\n",
      "(0.0, 0.5364753110196584)\n",
      "(1.0, 0.906622209340666)\n",
      "(0.0, 0.3880212658440869)\n",
      "(1.0, 0.42971220263609633)\n",
      "(1.0, 0.4897128414205719)\n",
      "...\n",
      "\n",
      "the accrucy is 0.5573980682109582\n",
      "-------------------------------------------\n",
      "Time: 2019-04-15 18:46:00\n",
      "-------------------------------------------\n",
      "(0.0, 0.46118022919857565)\n",
      "(0.0, 0.4082832102687124)\n",
      "(0.0, 0.3818347008037808)\n",
      "(0.0, 0.4082832102687124)\n",
      "(0.0, 0.46118022919857565)\n",
      "(0.0, 0.46118022919857565)\n",
      "(0.0, 0.35538619133884913)\n",
      "(0.0, 0.35538619133884913)\n",
      "(0.0, 0.46118022919857565)\n",
      "(0.0, 0.46118022919857565)\n",
      "...\n",
      "\n",
      "the accrucy is 0.5819514488417813\n",
      "-------------------------------------------\n",
      "Time: 2019-04-15 18:47:00\n",
      "-------------------------------------------\n",
      "(0.0, 0.3424770873076795)\n",
      "(1.0, 0.46135459050404326)\n",
      "(0.0, 0.49745778182059874)\n",
      "(0.0, 0.3209028485671694)\n",
      "(0.0, 0.3209028485671694)\n",
      "(0.0, 0.6163352850169626)\n",
      "(0.0, 0.3209028485671694)\n",
      "(0.0, 0.38562556478869986)\n",
      "(0.0, 0.29932860982665915)\n",
      "(0.0, 0.38562556478869986)\n",
      "...\n",
      "\n",
      "the accrucy is 0.6084921788187024\n",
      "-------------------------------------------\n",
      "Time: 2019-04-15 18:48:00\n",
      "-------------------------------------------\n",
      "(0.0, 0.2954953449416833)\n",
      "(0.0, 0.2954953449416833)\n",
      "(0.0, 0.2796078671864234)\n",
      "(0.0, 0.34315777820746296)\n",
      "(0.0, 0.3113828226969432)\n",
      "(0.0, 0.2796078671864234)\n",
      "(0.0, 0.3113828226969432)\n",
      "(0.0, 0.3113828226969432)\n",
      "(0.0, 0.34315777820746296)\n",
      "(0.0, 0.34315777820746296)\n",
      "...\n",
      "\n",
      "the accrucy is 0.5920876428184745\n",
      "-------------------------------------------\n",
      "Time: 2019-04-15 18:49:00\n",
      "-------------------------------------------\n",
      "(1.0, 0.5229566683270894)\n",
      "(0.0, 0.5229566683270894)\n",
      "(0.0, 0.5229566683270894)\n",
      "(0.0, 0.5577969532568539)\n",
      "(1.0, 0.45327609846756045)\n",
      "(1.0, 0.37098551129847396)\n",
      "(1.0, 0.37098551129847396)\n",
      "(1.0, 0.37098551129847396)\n",
      "(1.0, 0.37098551129847396)\n",
      "(1.0, 0.37098551129847396)\n",
      "...\n",
      "\n",
      "the accrucy is 0.553394877055019\n",
      "-------------------------------------------\n",
      "Time: 2019-04-15 18:50:00\n",
      "-------------------------------------------\n",
      "(0.0, 0.31632046710041395)\n",
      "(0.0, 0.3364981407361732)\n",
      "(0.0, 0.31632046710041395)\n",
      "(0.0, 0.3566758143719324)\n",
      "(0.0, 0.31632046710041395)\n",
      "(0.0, 0.3364981407361732)\n",
      "(0.0, 0.5410210768407024)\n",
      "(0.0, 0.3566758143719324)\n",
      "(0.0, 0.31632046710041395)\n",
      "(0.0, 0.3364981407361732)\n",
      "...\n",
      "\n",
      "the accrucy is 0.5628116363221928\n"
     ]
    }
   ],
   "source": [
    "ssc.start()"
   ]
  },
  {
   "cell_type": "code",
   "execution_count": 7,
   "metadata": {},
   "outputs": [],
   "source": [
    "ssc.stop()"
   ]
  },
  {
   "cell_type": "markdown",
   "metadata": {},
   "source": [
    "GRAPH"
   ]
  },
  {
   "cell_type": "code",
   "execution_count": 8,
   "metadata": {
    "scrolled": false
   },
   "outputs": [
    {
     "data": {
      "text/plain": [
       "[<matplotlib.lines.Line2D at 0x118e76c50>]"
      ]
     },
     "execution_count": 8,
     "metadata": {},
     "output_type": "execute_result"
    },
    {
     "data": {
      "image/png": "[encoded data removed]",
      "text/plain": [
       "<Figure size 432x288 with 1 Axes>"
      ]
     },
     "metadata": {},
     "output_type": "display_data"
    }
   ],
   "source": [
    "%matplotlib inline\n",
    "import matplotlib.pyplot as plt\n",
    "plt.plot(linear_acc)"
   ]
  },
  {
   "cell_type": "markdown",
   "metadata": {},
   "source": [
    "LOGISTIC REGRESSION MODEL"
   ]
  },
  {
   "cell_type": "code",
   "execution_count": 5,
   "metadata": {},
   "outputs": [],
   "source": [
    "logistic_model = StreamingLogisticRegressionWithSGD(stepSize=0.01)\n",
    "logistic_model.setInitialWeights([0.0, 0.0, 0.0, 0.0, 0.0])  \n",
    "\n",
    "logistic_model.trainOn(training_data)\n",
    "logistic_predicted_values = logistic_model.predictOnValues(testing_data.map(lambda lp: (lp.label, lp.features)))\n",
    "logistic_predicted_values.pprint()\n",
    "\n",
    "logistic_acc = []\n",
    "logistic_roc = []\n",
    "logistic_predicted_values.foreachRDD(lambda r: get_metrics_acc(logistic_acc,logistic_roc,r))"
   ]
  },
  {
   "cell_type": "markdown",
   "metadata": {
    "scrolled": false
   },
   "source": [
    "ssc.start()"
   ]
  },
  {
   "cell_type": "code",
   "execution_count": 7,
   "metadata": {},
   "outputs": [],
   "source": [
    "ssc.stop()"
   ]
  },
  {
   "cell_type": "markdown",
   "metadata": {},
   "source": [
    "GRAPH"
   ]
  },
  {
   "cell_type": "code",
   "execution_count": 18,
   "metadata": {},
   "outputs": [
    {
     "data": {
      "text/plain": [
       "<matplotlib.legend.Legend at 0x11973b080>"
      ]
     },
     "execution_count": 18,
     "metadata": {},
     "output_type": "execute_result"
    },
    {
     "data": {
      "image/png": "[encoded data removed]",
      "text/plain": [
       "<Figure size 432x288 with 1 Axes>"
      ]
     },
     "metadata": {},
     "output_type": "display_data"
    }
   ],
   "source": [
    "%matplotlib inline\n",
    "import matplotlib.pyplot as plt\n",
    "plt.plot(logistic_acc,label = \"acc\")\n",
    "plt.plot(logistic_roc,label = \"roc\")\n",
    "plt.legend()"
   ]
  },
  {
   "cell_type": "code",
   "execution_count": null,
   "metadata": {},
   "outputs": [],
   "source": []
  }
 ],
 "metadata": {
  "kernelspec": {
   "display_name": "Python 3",
   "language": "python",
   "name": "python3"
  },
  "language_info": {
   "codemirror_mode": {
    "name": "ipython",
    "version": 3
   },
   "file_extension": ".py",
   "mimetype": "text/x-python",
   "name": "python",
   "nbconvert_exporter": "python",
   "pygments_lexer": "ipython3",
   "version": "3.7.0"
  }
 },
 "nbformat": 4,
 "nbformat_minor": 2
}
